{
 "cells": [
  {
   "cell_type": "markdown",
   "metadata": {},
   "source": [
    "### Different python implementations of raster-space weighted voronoi\n",
    "\n",
    "This is how we'd do (optionally, weighted) voronoi in numpy code. \n",
    "\n",
    "Can we turn this into gpu code using pycuda gpuarray?\n",
    "\n",
    "Note that we're only using haversine (spherical) distance"
   ]
  },
  {
   "cell_type": "code",
   "execution_count": 1,
   "metadata": {
    "collapsed": true
   },
   "outputs": [],
   "source": [
    "import numpy as np"
   ]
  },
  {
   "cell_type": "markdown",
   "metadata": {},
   "source": [
    "Set up test data"
   ]
  },
  {
   "cell_type": "code",
   "execution_count": 2,
   "metadata": {
    "collapsed": true
   },
   "outputs": [],
   "source": [
    "#oidUse\n",
    "oidUse = np.array([3, 5, 6, 1, 2, 4, 7, 0])\n",
    "#valUse\n",
    "valUse = np.array([  68973.,  124745.,  160963.,  128893.,   54578.,  127628.,\n",
    "         94394.,   53067.])\n",
    "#latsUse\n",
    "latsUse = np.array([-12.31252035, -15.71252035, -18.16252035, -18.91252035,\n",
    "       -19.67085368, -21.44585368, -23.34585368, -25.16252035])\n",
    "#lonsUse\n",
    "lonsUse=np.array([ 49.28752035,  46.31252035,  49.37918701,  47.51252035,\n",
    "        47.31252035,  47.06252035,  43.66252035,  46.07918701])\n",
    "colLngs = np.arange(38,55,0.008333333333333)\n",
    "rowLats = np.arange(-7,-31,-0.008333333333333)"
   ]
  },
  {
   "cell_type": "markdown",
   "metadata": {},
   "source": [
    "Pre-calculate the radian conversions and the cosine of the latitudes"
   ]
  },
  {
   "cell_type": "code",
   "execution_count": 3,
   "metadata": {
    "collapsed": false
   },
   "outputs": [],
   "source": [
    "latRads = np.radians(rowLats)\n",
    "lonRads = np.radians(colLngs)\n",
    "cosLats = np.cos(latRads)\n",
    "\n",
    "latsGrid = np.expand_dims(latRads,axis=1) #.repeat(axis=1, repeats=len(lonRads))\n",
    "cosLatsGrid = np.expand_dims(cosLats,axis=1) #.repeat(axis=1, repeats=len(lonRads))\n",
    "lonsGrid = np.expand_dims(lonRads,axis=0) #.repeat(axis=0, repeats=len(latRads))\n",
    "\n",
    "latRadPoints = np.radians(latsUse)\n",
    "lonRadPoints = np.radians(lonsUse)"
   ]
  },
  {
   "cell_type": "markdown",
   "metadata": {},
   "source": [
    "## Numpy approach\n",
    "vectorised function for calculating the spheroid distance between the whole grid space and a single point (adapted from https://stackoverflow.com/a/29546836)"
   ]
  },
  {
   "cell_type": "code",
   "execution_count": 4,
   "metadata": {
    "collapsed": true
   },
   "outputs": [],
   "source": [
    "def haversine_np(latGrid, cosLatGrid, lonGrid, latPoint, lonPoint):\n",
    "    dLon = lonGrid - lonPoint\n",
    "    dLat = latGrid - latPoint\n",
    "    a = np.sin(dLat/2.0)**2 + cosLatGrid * np.cos(latPoint) * np.sin(dLon / 2.0)**2\n",
    "    c = 2 * np.arcsin(np.sqrt(a))\n",
    "    km = 6372.8 * c\n",
    "    return km"
   ]
  },
  {
   "cell_type": "code",
   "execution_count": 22,
   "metadata": {
    "collapsed": true
   },
   "outputs": [],
   "source": [
    "import numexpr as ne\n",
    "def haversine_cost_ne(latGrid, cosLatGrid, lonGrid, latPoint, lonPoint, costPoint):\n",
    "    dLon = ne.evaluate(\"lonGrid - lonPoint\")\n",
    "    dLat = ne.evaluate(\"latGrid - latPoint\")\n",
    "    a = ne.evaluate(\"sin(dLat/2.0)**2 + cosLatGrid * cos(latPoint) * sin(dLon / 2.0)**2\")\n",
    "    cost = ne.evaluate(\"(2 * arcsin(sqrt(a)) * 6372.8) / costPoint\")\n",
    "    return cost"
   ]
  },
  {
   "cell_type": "markdown",
   "metadata": {
    "collapsed": false
   },
   "source": [
    "grids for output"
   ]
  },
  {
   "cell_type": "code",
   "execution_count": 29,
   "metadata": {
    "collapsed": true
   },
   "outputs": [],
   "source": [
    "assignmentsNP = np.empty(shape=(len(rowLats),len(colLngs)))\n",
    "minScoresNP = np.empty(shape=(len(rowLats),len(colLngs)))\n",
    "minScoresNP[:] = np.inf"
   ]
  },
  {
   "cell_type": "code",
   "execution_count": 28,
   "metadata": {
    "collapsed": false
   },
   "outputs": [
    {
     "name": "stdout",
     "output_type": "stream",
     "text": [
      "1 loop, best of 3: 1.8 s per loop\n"
     ]
    }
   ],
   "source": [
    "%%timeit\n",
    "for i in range(len(oidUse)):\n",
    "    oid = oidUse[i]\n",
    "    #dists = (np.sqrt((latsGrid-latsUse[i])**2 + (lonsGrid-lonsUse[i])**2)) / valUse[i]\n",
    "    dists = haversine_np(latsGrid, cosLatsGrid, lonsGrid, latRadPoints[i], lonRadPoints[i]) / valUse[i]\n",
    "    updateLocs = dists < minScoresNP\n",
    "    assignmentsNP[updateLocs] = oid\n",
    "    minScoresNP[updateLocs] = dists[updateLocs]\n",
    "    "
   ]
  },
  {
   "cell_type": "code",
   "execution_count": 30,
   "metadata": {
    "collapsed": false
   },
   "outputs": [
    {
     "name": "stdout",
     "output_type": "stream",
     "text": [
      "1 loop, best of 3: 626 ms per loop\n"
     ]
    }
   ],
   "source": [
    "%%timeit\n",
    "for i in range(len(oidUse)):\n",
    "    oid = oidUse[i]\n",
    "    #dists = (np.sqrt((latsGrid-latsUse[i])**2 + (lonsGrid-lonsUse[i])**2)) / valUse[i]\n",
    "    costs = haversine_cost_ne(latsGrid, cosLatsGrid, lonsGrid, latRadPoints[i], lonRadPoints[i], valUse[i])\n",
    "    updateLocs = dists < minScoresNP\n",
    "    assignmentsNP[updateLocs] = oid\n",
    "    minScoresNP[updateLocs] = dists[updateLocs]"
   ]
  },
  {
   "cell_type": "code",
   "execution_count": 19,
   "metadata": {
    "collapsed": false
   },
   "outputs": [
    {
     "data": {
      "text/plain": [
       "(2881L, 2041L)"
      ]
     },
     "execution_count": 19,
     "metadata": {},
     "output_type": "execute_result"
    }
   ],
   "source": [
    "updateLocs.shape"
   ]
  },
  {
   "cell_type": "code",
   "execution_count": 7,
   "metadata": {
    "collapsed": false
   },
   "outputs": [],
   "source": [
    "import matplotlib.pyplot as plt\n",
    "%matplotlib inline"
   ]
  },
  {
   "cell_type": "code",
   "execution_count": 8,
   "metadata": {
    "collapsed": false
   },
   "outputs": [
    {
     "data": {
      "text/plain": [
       "<matplotlib.image.AxesImage at 0x10e82c50>"
      ]
     },
     "execution_count": 8,
     "metadata": {},
     "output_type": "execute_result"
    },
    {
     "data": {
      "image/png": "[encoded data removed]",
      "text/plain": [
       "<matplotlib.figure.Figure at 0x10dab048>"
      ]
     },
     "metadata": {},
     "output_type": "display_data"
    }
   ],
   "source": [
    "plt.imshow(assignmentsNP)"
   ]
  },
  {
   "cell_type": "markdown",
   "metadata": {},
   "source": [
    "### Try for a CUDA version\n",
    "\n",
    "First hack the path to get the cuda compiler working (horrible - this probably breaks other python compilations which rely on VC9.0)"
   ]
  },
  {
   "cell_type": "code",
   "execution_count": 11,
   "metadata": {
    "collapsed": false
   },
   "outputs": [],
   "source": [
    "import os\n",
    "os.environ['PATH'] = 'C:\\\\OSGEO4~1\\\\apps\\\\Python27\\\\lib\\\\site-packages\\\\numpy\\\\core;C:\\\\OSGEO4~1\\\\apps\\\\Python27\\\\Scripts;C:\\\\Windows\\\\Microsoft.NET\\\\Framework64\\\\;C:\\\\Windows\\\\Microsoft.NET\\\\Framework64\\\\\\\\Microsoft .NET Framework 3.5 (Pre-Release Version);C:\\\\Windows\\\\Microsoft.NET\\\\Framework64\\\\v2.0.50727;C:\\\\Program Files\\\\Microsoft SDKs\\\\Windows\\\\v6.0A\\\\bin\\\\x64;C:\\\\Program Files\\\\Microsoft SDKs\\\\Windows\\\\v6.0A\\\\bin\\\\win64\\\\x64;C:\\\\Program Files\\\\Microsoft SDKs\\\\Windows\\\\v6.0A\\\\bin;C:\\\\Progra~2\\\\MICROS~3.0\\\\VC\\\\bin;C:\\\\OSGEO4~1\\\\bin;C:\\\\Windows\\\\system32;C:\\\\Windows;C:\\\\Windows\\\\WBem;C:\\\\Progra~1\\\\NVIDIA~2\\\\CUDA\\\\v8.0\\\\libnvvp;C:\\\\Progra~1\\\\NVIDIA~2\\\\CUDA\\\\v8.0\\\\bin;;C:\\\\OSGEO4~1\\\\apps\\\\msys\\\\bin;C:\\\\Program Files\\\\R\\\\R-3.4.1\\\\bin\\\\x64'"
   ]
  },
  {
   "cell_type": "code",
   "execution_count": 12,
   "metadata": {
    "collapsed": false
   },
   "outputs": [
    {
     "data": {
      "text/plain": [
       "'C:\\\\OSGEO4~1\\\\apps\\\\Python27\\\\lib\\\\site-packages\\\\numpy\\\\core;C:\\\\OSGEO4~1\\\\apps\\\\Python27\\\\Scripts;C:\\\\Windows\\\\Microsoft.NET\\\\Framework64\\\\;C:\\\\Windows\\\\Microsoft.NET\\\\Framework64\\\\\\\\Microsoft .NET Framework 3.5 (Pre-Release Version);C:\\\\Windows\\\\Microsoft.NET\\\\Framework64\\\\v2.0.50727;C:\\\\Program Files\\\\Microsoft SDKs\\\\Windows\\\\v6.0A\\\\bin\\\\x64;C:\\\\Program Files\\\\Microsoft SDKs\\\\Windows\\\\v6.0A\\\\bin\\\\win64\\\\x64;C:\\\\Program Files\\\\Microsoft SDKs\\\\Windows\\\\v6.0A\\\\bin;C:\\\\Progra~2\\\\MICROS~3.0\\\\VC\\\\bin;C:\\\\OSGEO4~1\\\\bin;C:\\\\Windows\\\\system32;C:\\\\Windows;C:\\\\Windows\\\\WBem;C:\\\\Progra~1\\\\NVIDIA~2\\\\CUDA\\\\v8.0\\\\libnvvp;C:\\\\Progra~1\\\\NVIDIA~2\\\\CUDA\\\\v8.0\\\\bin;;C:\\\\OSGEO4~1\\\\apps\\\\msys\\\\bin;C:\\\\Program Files\\\\R\\\\R-3.4.1\\\\bin\\\\x64'"
      ]
     },
     "execution_count": 12,
     "metadata": {},
     "output_type": "execute_result"
    }
   ],
   "source": [
    "os.environ['PATH']"
   ]
  },
  {
   "cell_type": "code",
   "execution_count": 13,
   "metadata": {
    "collapsed": false
   },
   "outputs": [],
   "source": [
    "os.environ['CUDA_DEVICE']=\"1\""
   ]
  },
  {
   "cell_type": "code",
   "execution_count": 14,
   "metadata": {
    "collapsed": false
   },
   "outputs": [],
   "source": [
    "import pycuda.autoinit\n",
    "import pycuda.gpuarray as gpuarray\n",
    "from pycuda.elementwise import ElementwiseKernel\n",
    "import pycuda.cumath"
   ]
  },
  {
   "cell_type": "code",
   "execution_count": 30,
   "metadata": {
    "collapsed": false
   },
   "outputs": [],
   "source": [
    "latsCuda = gpuarray.to_gpu(latsGrid)\n",
    "lonsCuda = gpuarray.to_gpu(lonsGrid)\n",
    "cosCuda = gpuarray.to_gpu(cosLatsGrid)"
   ]
  },
  {
   "cell_type": "code",
   "execution_count": 31,
   "metadata": {
    "collapsed": false
   },
   "outputs": [
    {
     "name": "stdout",
     "output_type": "stream",
     "text": [
      "100 loops, best of 3: 19.4 ms per loop\n"
     ]
    }
   ],
   "source": [
    "%timeit -n 100 (latsCuda*lonsCuda)"
   ]
  },
  {
   "cell_type": "code",
   "execution_count": 32,
   "metadata": {
    "collapsed": false
   },
   "outputs": [
    {
     "name": "stdout",
     "output_type": "stream",
     "text": [
      "10 loops, best of 3: 21.9 ms per loop\n"
     ]
    }
   ],
   "source": [
    "%timeit(latsGrid*lonsGrid)\n"
   ]
  },
  {
   "cell_type": "markdown",
   "metadata": {},
   "source": [
    "Now the main distance implementation. Props to http://www.vallis.org/salon/summary-10.html"
   ]
  },
  {
   "cell_type": "code",
   "execution_count": 33,
   "metadata": {
    "collapsed": true
   },
   "outputs": [],
   "source": [
    "def haversine_cuda(gpuLatGrid, gpuCosLatGrid, gpuLonGrid, pointLat, pointLon):\n",
    "    \n",
    "    #subtr = ElementwiseKernel(\"float *arr, float x, float *z\", \"z[i] = *arr[i] - x\", \"subtract\")\n",
    "    #dLon = gpuarray.empty_like(gpuLonGrid)\n",
    "    #dLat = gpuarray.empty_like(gpuLatGrid)\n",
    "    #subtr(gpuLonGrid, pointLon, dLon)\n",
    "    #subtr(gpuLatGrid, pointLat, dLat)\n",
    "    dLon = gpuLonGrid - np.float32(pointLon)\n",
    "    dLat = gpuLatGrid - np.float32(pointLat)\n",
    "    npTwo = np.float32(2)\n",
    "    a = pycuda.cumath.sin(dLat/npTwo)**npTwo + gpuCosLatGrid * np.cos(pointLat) * pycuda.cumath.sin(dLon / npTwo)**npTwo\n",
    "    c = 2 * pycuda.cumath.asin(pycuda.cumath.sqrt(a))\n",
    "    km = np.float32(6372.8) * c\n",
    "    return km"
   ]
  },
  {
   "cell_type": "code",
   "execution_count": 17,
   "metadata": {
    "collapsed": false
   },
   "outputs": [
    {
     "name": "stdout",
     "output_type": "stream",
     "text": [
      "10 loops, best of 3: 137 ms per loop\n"
     ]
    }
   ],
   "source": [
    "%timeit haversine_cuda(latsCuda, cosCuda, lonsCuda, latRadPoints[1], lonRadPoints[1])"
   ]
  },
  {
   "cell_type": "code",
   "execution_count": 19,
   "metadata": {
    "collapsed": false
   },
   "outputs": [
    {
     "name": "stdout",
     "output_type": "stream",
     "text": [
      "10 loops, best of 3: 106 ms per loop\n"
     ]
    }
   ],
   "source": [
    "%timeit haversine_np(latsGrid, cosLatsGrid, lonsGrid, latRadPoints[1], lonRadPoints[1])"
   ]
  },
  {
   "cell_type": "code",
   "execution_count": 34,
   "metadata": {
    "collapsed": true
   },
   "outputs": [],
   "source": [
    "assignmentsCuda = np.empty(shape=(len(rowLats),len(colLngs)))\n",
    "minScoresCuda = np.empty(shape=(len(rowLats),len(colLngs)))\n",
    "minScoresCuda[:] = np.inf"
   ]
  },
  {
   "cell_type": "code",
   "execution_count": 38,
   "metadata": {
    "collapsed": false
   },
   "outputs": [
    {
     "name": "stdout",
     "output_type": "stream",
     "text": [
      "1 loop, best of 3: 4.6 s per loop\n"
     ]
    }
   ],
   "source": [
    "%%timeit\n",
    "for i in range(len(oidUse)):\n",
    "    oid = oidUse[i]\n",
    "    #dists = (np.sqrt((latsGrid-latsUse[i])**2 + (lonsGrid-lonsUse[i])**2)) / valUse[i]\n",
    "    dists = (haversine_cuda(latsCuda, cosCuda, lonsCuda, latRadPoints[i], lonRadPoints[i]) / valUse[i]).get()\n",
    "    updateLocs = dists < minScoresCuda\n",
    "    assignmentsCuda[updateLocs] = oid\n",
    "    minScoresCuda[updateLocs] = dists[updateLocs]"
   ]
  },
  {
   "cell_type": "code",
   "execution_count": 36,
   "metadata": {
    "collapsed": false
   },
   "outputs": [
    {
     "data": {
      "text/plain": [
       "array([[ 5.,  5.,  5., ...,  6.,  6.,  6.],\n",
       "       [ 5.,  5.,  5., ...,  6.,  6.,  6.],\n",
       "       [ 5.,  5.,  5., ...,  6.,  6.,  6.],\n",
       "       ..., \n",
       "       [ 7.,  7.,  7., ...,  6.,  6.,  6.],\n",
       "       [ 7.,  7.,  7., ...,  6.,  6.,  6.],\n",
       "       [ 7.,  7.,  7., ...,  6.,  6.,  6.]])"
      ]
     },
     "execution_count": 36,
     "metadata": {},
     "output_type": "execute_result"
    }
   ],
   "source": [
    "assignmentsCuda"
   ]
  },
  {
   "cell_type": "code",
   "execution_count": 37,
   "metadata": {
    "collapsed": false
   },
   "outputs": [
    {
     "data": {
      "text/plain": [
       "<matplotlib.image.AxesImage at 0x10d05d68>"
      ]
     },
     "execution_count": 37,
     "metadata": {},
     "output_type": "execute_result"
    },
    {
     "data": {
      "image/png": "[encoded data removed]",
      "text/plain": [
       "<matplotlib.figure.Figure at 0x10d08ef0>"
      ]
     },
     "metadata": {},
     "output_type": "display_data"
    }
   ],
   "source": [
    "plt.imshow(assignmentsCuda)"
   ]
  },
  {
   "cell_type": "markdown",
   "metadata": {},
   "source": [
    "Soooo.... it works but is loads slower than CPU at least with the crappy GPU i've got here"
   ]
  },
  {
   "cell_type": "code",
   "execution_count": null,
   "metadata": {
    "collapsed": true
   },
   "outputs": [],
   "source": []
  }
 ],
 "metadata": {
  "kernelspec": {
   "display_name": "Python 2",
   "language": "python",
   "name": "python2"
  },
  "language_info": {
   "codemirror_mode": {
    "name": "ipython",
    "version": 2
   },
   "file_extension": ".py",
   "mimetype": "text/x-python",
   "name": "python",
   "nbconvert_exporter": "python",
   "pygments_lexer": "ipython2",
   "version": "2.7.5"
  }
 },
 "nbformat": 4,
 "nbformat_minor": 2
}
